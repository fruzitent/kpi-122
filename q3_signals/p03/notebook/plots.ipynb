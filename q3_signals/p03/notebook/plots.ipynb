version https://git-lfs.github.com/spec/v1
oid sha256:ed9907fdf86f7cf6a8895bf9e66f34686201bbe0c20fc4abd05372eaf03cd643
size 1297978
