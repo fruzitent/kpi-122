version https://git-lfs.github.com/spec/v1
oid sha256:a96aaa45c027b9ab4a0aaad1c8534293e92a9459234f6fdaf67816a47163dd6a
size 5452921
