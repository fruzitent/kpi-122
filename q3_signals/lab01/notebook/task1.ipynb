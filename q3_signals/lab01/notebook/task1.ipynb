{
 "cells": [
  {
   "cell_type": "code",
   "execution_count": null,
   "metadata": {},
   "outputs": [],
   "source": [
    "from IPython.display import display\n",
    "from ipywidgets import interact, IntSlider, Output"
   ]
  },
  {
   "cell_type": "code",
   "execution_count": null,
   "metadata": {
    "collapsed": false
   },
   "outputs": [],
   "source": [
    "from tempfile import TemporaryFile\n",
    "\n",
    "import numpy as np\n",
    "from matplotlib import pyplot as plt\n",
    "from numpy import typing as npt\n",
    "from scipy.signal import square"
   ]
  },
  {
   "cell_type": "code",
   "execution_count": null,
   "metadata": {},
   "outputs": [],
   "source": [
    "from dataclasses import dataclass\n",
    "from typing import Callable, NewType\n",
    "\n",
    "Hz = NewType(\"Hz\", int)\n",
    "Meter = NewType(\"Meter\", int)\n",
    "Second = NewType(\"Second\", int)"
   ]
  },
  {
   "cell_type": "code",
   "execution_count": null,
   "metadata": {},
   "outputs": [],
   "source": [
    "DPI: int = 300\n",
    "\n",
    "\n",
    "@dataclass(frozen=True)\n",
    "class A4(object):\n",
    "    height: float = 8.3\n",
    "    width: float = 11.7"
   ]
  },
  {
   "cell_type": "markdown",
   "metadata": {},
   "source": [
    "# Task 1"
   ]
  },
  {
   "cell_type": "code",
   "execution_count": null,
   "metadata": {
    "collapsed": false
   },
   "outputs": [],
   "source": [
    "darr_a: npt.NDArray[np.int8] = np.matrix(\n",
    "    [\n",
    "        [1, 2, 3],\n",
    "        [4, 5, 6],\n",
    "    ],\n",
    "    dtype=np.int8,\n",
    ")\n",
    "\n",
    "darr_b: npt.NDArray[np.int8] = np.matrix(\n",
    "    [\n",
    "        [3, 3, 3],\n",
    "        [2, 2, 2],\n",
    "    ],\n",
    "    dtype=np.int8,\n",
    ")"
   ]
  },
  {
   "cell_type": "code",
   "execution_count": null,
   "metadata": {
    "collapsed": false
   },
   "outputs": [],
   "source": [
    "print(3 * darr_a)"
   ]
  },
  {
   "cell_type": "code",
   "execution_count": null,
   "metadata": {
    "collapsed": false
   },
   "outputs": [],
   "source": [
    "print(darr_a + darr_b)"
   ]
  },
  {
   "cell_type": "code",
   "execution_count": null,
   "metadata": {
    "collapsed": false
   },
   "outputs": [],
   "source": [
    "print(darr_a - darr_b)"
   ]
  },
  {
   "cell_type": "code",
   "execution_count": null,
   "metadata": {
    "collapsed": false
   },
   "outputs": [],
   "source": [
    "darr_a: npt.NDArray[np.int8] = np.matrix(\n",
    "    [\n",
    "        [2, 2, 2],\n",
    "        [1, 1, 1],\n",
    "    ],\n",
    "    dtype=np.int8,\n",
    ")\n",
    "\n",
    "darr_b: npt.NDArray[np.int8] = np.matrix(\n",
    "    [\n",
    "        [5, 5],\n",
    "        [4, 4],\n",
    "        [3, 3],\n",
    "    ],\n",
    "    dtype=np.int8,\n",
    ")"
   ]
  },
  {
   "cell_type": "code",
   "execution_count": null,
   "metadata": {
    "collapsed": false
   },
   "outputs": [],
   "source": [
    "print(darr_a * darr_b)"
   ]
  },
  {
   "cell_type": "markdown",
   "metadata": {},
   "source": [
    "# Task 2"
   ]
  },
  {
   "cell_type": "markdown",
   "metadata": {},
   "source": [
    "### Task 2.1"
   ]
  },
  {
   "cell_type": "code",
   "execution_count": null,
   "metadata": {},
   "outputs": [],
   "source": [
    "darr_ap: npt.NDArray[np.float64] = np.arange(2, 100, 3, dtype=np.int8)"
   ]
  },
  {
   "cell_type": "code",
   "execution_count": null,
   "metadata": {},
   "outputs": [],
   "source": [
    "print(darr_ap)"
   ]
  },
  {
   "cell_type": "markdown",
   "metadata": {},
   "source": [
    "### Task 2.2"
   ]
  },
  {
   "cell_type": "code",
   "execution_count": null,
   "metadata": {},
   "outputs": [],
   "source": [
    "normal: npt.NDArray[np.float64] = np.random.normal(0, 100, 10000)\n",
    "uniform: npt.NDArray[np.float64] = np.random.uniform(0, 100, 10000)"
   ]
  },
  {
   "cell_type": "code",
   "execution_count": null,
   "metadata": {},
   "outputs": [],
   "source": [
    "fig: plt.Figure = plt.figure(figsize=(A4.width, A4.height), dpi=DPI)\n",
    "fig_cols: int = 2\n",
    "fig_rows: int = 1\n",
    "\n",
    "ax0: plt.Axes = fig.add_subplot(fig_rows, fig_cols, 1)\n",
    "ax0.hist(normal, bins=DPI)\n",
    "\n",
    "ax1: plt.Axes = fig.add_subplot(fig_rows, fig_cols, 2)\n",
    "ax1.hist(uniform, bins=DPI)\n",
    "\n",
    "plt.show()"
   ]
  },
  {
   "cell_type": "markdown",
   "metadata": {},
   "source": [
    "# Task 3"
   ]
  },
  {
   "cell_type": "code",
   "execution_count": null,
   "metadata": {},
   "outputs": [],
   "source": [
    "darr_x: npt.NDArray[np.float64] = np.arange(-10, 10, 0.01, dtype=np.float64)\n",
    "darr_y: npt.NDArray[np.float64] = 2 * darr_x / 5 + 2"
   ]
  },
  {
   "cell_type": "code",
   "execution_count": null,
   "metadata": {},
   "outputs": [],
   "source": [
    "fig: plt.Figure = plt.figure()\n",
    "fig_cols: int = 1\n",
    "fig_rows: int = 1\n",
    "\n",
    "ax0: plt.Axes = fig.add_subplot(fig_rows, fig_cols, 1)\n",
    "ax0.plot(darr_x, darr_y)\n",
    "ax0.axhline(0, alpha=0.25, color=\"black\", linestyle=\"dashed\")\n",
    "ax0.axvline(0, alpha=0.25, color=\"black\", linestyle=\"dashed\")\n",
    "ax0.set_title(\"y = 2 * x / 5 + 2\")\n",
    "ax0.set_xlabel(\"x\")\n",
    "ax0.set_ylabel(\"y\")\n",
    "ax0.grid()\n",
    "\n",
    "plt.show()"
   ]
  },
  {
   "cell_type": "markdown",
   "metadata": {},
   "source": [
    "# Task 4"
   ]
  },
  {
   "cell_type": "code",
   "execution_count": null,
   "metadata": {},
   "outputs": [],
   "source": [
    "def sinusoid(\n",
    "    timespan: npt.NDArray[np.float64],\n",
    "    freq: Hz,\n",
    "    amp: Meter,\n",
    ") -> npt.NDArray[np.float64]:\n",
    "    return amp * np.sin(2 * np.pi * freq * timespan)"
   ]
  },
  {
   "cell_type": "code",
   "execution_count": null,
   "metadata": {},
   "outputs": [],
   "source": [
    "amp_min: Meter = Meter(1)\n",
    "amp_max: Meter = Meter(10)\n",
    "\n",
    "freq0: Hz = Hz(1)\n",
    "freq1: Hz = Hz(10)\n",
    "freq2: Hz = Hz(50)\n",
    "\n",
    "samples: Hz = Hz(256)\n",
    "\n",
    "time: Second = Second(1)\n",
    "timespan: npt.NDArray[np.float64] = np.linspace(\n",
    "    start=0,\n",
    "    stop=time,\n",
    "    num=time * samples,\n",
    "    dtype=np.float64,\n",
    ")"
   ]
  },
  {
   "cell_type": "code",
   "execution_count": null,
   "metadata": {},
   "outputs": [],
   "source": [
    "def amp_label(amp: Meter | None = None) -> str:\n",
    "    start: str = \"Amplitude\"\n",
    "    check: str = \"\" if amp is None else f\" = {amp}\"\n",
    "    end: str = f\", {Meter.__qualname__}\"\n",
    "    return start + check + end\n",
    "\n",
    "\n",
    "def time_label(time: Second | None = None) -> str:\n",
    "    start: str = \"Time\"\n",
    "    check: str = \"\" if time is None else f\" = {time}\"\n",
    "    end: str = f\", {Second.__qualname__}\"\n",
    "    return start + check + end\n",
    "\n",
    "\n",
    "def freq_label(freq: Hz | None = None) -> str:\n",
    "    start: str = \"Frequency\"\n",
    "    check: str = \"\" if freq is None else f\" = {freq}\"\n",
    "    end: str = f\", {Hz.__qualname__}\"\n",
    "    return start + check + end\n",
    "\n",
    "\n",
    "def plot(\n",
    "    ax: plt.Axes,\n",
    "    timespan: npt.NDArray[np.float64],\n",
    "    darr_x: npt.NDArray[np.float64],\n",
    "    title: str,\n",
    ") -> None:\n",
    "    ax.plot(timespan, darr_x)\n",
    "    ax.set_xlabel(time_label())\n",
    "    ax.set_ylabel(amp_label())\n",
    "    ax.set_title(title)\n",
    "    ax.grid()"
   ]
  },
  {
   "cell_type": "code",
   "execution_count": null,
   "metadata": {},
   "outputs": [],
   "source": [
    "@interact(\n",
    "    amp0=IntSlider(\n",
    "        value=np.random.randint(amp_min, amp_max),\n",
    "        min=amp_min,\n",
    "        max=amp_max,\n",
    "    ),\n",
    "    amp1=IntSlider(\n",
    "        value=np.random.randint(amp_min, amp_max),\n",
    "        min=amp_min,\n",
    "        max=amp_max,\n",
    "    ),\n",
    "    amp2=IntSlider(\n",
    "        value=np.random.randint(amp_min, amp_max),\n",
    "        min=amp_min,\n",
    "        max=amp_max,\n",
    "    ),\n",
    ")\n",
    "def task4(amp0: Meter, amp1: Meter, amp2: Meter) -> None:\n",
    "    fig: plt.Figure = plt.figure(figsize=(A4.height, A4.width), dpi=DPI)\n",
    "    fig_cols: int = 1\n",
    "    fig_rows: int = 4\n",
    "\n",
    "    darr_x0: npt.NDArray[np.float64] = sinusoid(timespan, freq0, amp0)\n",
    "    plot(\n",
    "        ax=fig.add_subplot(fig_rows, fig_cols, 1),\n",
    "        timespan=timespan,\n",
    "        darr_x=darr_x0,\n",
    "        title=freq_label(freq0) + \"\\n\" + amp_label(amp0),\n",
    "    )\n",
    "\n",
    "    darr_x1: npt.NDArray[np.float64] = sinusoid(timespan, freq1, amp1)\n",
    "    plot(\n",
    "        ax=fig.add_subplot(fig_rows, fig_cols, 2),\n",
    "        timespan=timespan,\n",
    "        darr_x=darr_x1,\n",
    "        title=freq_label(freq1) + \"\\n\" + amp_label(amp1),\n",
    "    )\n",
    "\n",
    "    darr_x2: npt.NDArray[np.float64] = sinusoid(timespan, freq2, amp2)\n",
    "    plot(\n",
    "        ax=fig.add_subplot(fig_rows, fig_cols, 3),\n",
    "        timespan=timespan,\n",
    "        darr_x=darr_x2,\n",
    "        title=freq_label(freq2) + \"\\n\" + amp_label(amp2),\n",
    "    )\n",
    "\n",
    "    darr_x: npt.NDArray[np.float64] = darr_x0 + darr_x1 + darr_x2\n",
    "    plot(\n",
    "        ax=fig.add_subplot(fig_rows, fig_cols, 4),\n",
    "        timespan=timespan,\n",
    "        darr_x=darr_x,\n",
    "        title=\"Combined\",\n",
    "    )\n",
    "\n",
    "    plt.tight_layout()\n",
    "    plt.show()"
   ]
  },
  {
   "cell_type": "markdown",
   "metadata": {},
   "source": [
    "# Task 5"
   ]
  },
  {
   "cell_type": "markdown",
   "metadata": {},
   "source": [
    "### Task 5.1"
   ]
  },
  {
   "cell_type": "code",
   "execution_count": null,
   "metadata": {},
   "outputs": [],
   "source": [
    "amp0: Meter = Meter(1)\n",
    "\n",
    "samples: Hz = Hz(256)\n",
    "\n",
    "time: Second = Second(10)\n",
    "timespan: npt.NDArray = np.linspace(\n",
    "    start=0,\n",
    "    stop=time,\n",
    "    num=time * samples,\n",
    "    dtype=np.float64,\n",
    ")"
   ]
  },
  {
   "cell_type": "code",
   "execution_count": null,
   "metadata": {},
   "outputs": [],
   "source": [
    "fig: plt.Figure = plt.figure()\n",
    "fig_cols: int = 1\n",
    "fig_rows: int = 1\n",
    "\n",
    "darr_x0: npt.NDArray[np.float64] = square(2 * np.pi * amp0 * timespan)\n",
    "plot(\n",
    "    ax=fig.add_subplot(fig_rows, fig_cols, 1),\n",
    "    timespan=timespan,\n",
    "    darr_x=darr_x0,\n",
    "    title=\"Square wave\",\n",
    ")"
   ]
  },
  {
   "cell_type": "markdown",
   "metadata": {},
   "source": [
    "### Task 5.2"
   ]
  },
  {
   "cell_type": "code",
   "execution_count": null,
   "metadata": {},
   "outputs": [],
   "source": [
    "def pulse(\n",
    "    timespan: npt.NDArray[np.float64],\n",
    "    amp: Meter,\n",
    "    centre: Second,\n",
    "    width: Second,\n",
    ") -> npt.NDArray[np.float64]:\n",
    "    bound_low: int = int(samples * (centre - width / 2))\n",
    "    bound_hgh: int = int(samples * (centre + width / 2))\n",
    "\n",
    "    if bound_low < 0 or bound_hgh > len(timespan):\n",
    "        raise ValueError(\"out of bounds\")\n",
    "\n",
    "    pulse: npt.NDArray[np.float64] = np.zeros_like(timespan, dtype=np.float64)\n",
    "    pulse[bound_low:bound_hgh] = amp\n",
    "    return pulse"
   ]
  },
  {
   "cell_type": "code",
   "execution_count": null,
   "metadata": {},
   "outputs": [],
   "source": [
    "samples: Hz = Hz(256)\n",
    "\n",
    "time: Second = Second(10000)\n",
    "timespan: npt.NDArray[np.float64] = np.linspace(\n",
    "    start=0,\n",
    "    stop=time,\n",
    "    num=time * samples,\n",
    "    dtype=np.float64,\n",
    ")\n",
    "\n",
    "amp_min: Meter = Meter(100)\n",
    "amp_max: Meter = Meter(1000)\n",
    "centre0: Second = Second(4000)\n",
    "width0: Second = Second(300)"
   ]
  },
  {
   "cell_type": "code",
   "execution_count": null,
   "metadata": {},
   "outputs": [],
   "source": [
    "@interact(\n",
    "    amp0=IntSlider(\n",
    "        value=np.random.randint(amp_min, amp_max),\n",
    "        min=amp_min,\n",
    "        max=amp_max,\n",
    "    ),\n",
    "    centre0=IntSlider(\n",
    "        value=np.random.randint(0, time),\n",
    "        min=0,\n",
    "        max=time,\n",
    "    ),\n",
    "    width0=IntSlider(\n",
    "        value=np.random.randint(0, time),\n",
    "        min=0,\n",
    "        max=time,\n",
    "    ),\n",
    ")\n",
    "def task52(amp0: Meter, centre0: Second, width0: Second) -> None:\n",
    "    fig: plt.Figure = plt.figure()\n",
    "    fig_cols: int = 1\n",
    "    fig_rows: int = 1\n",
    "\n",
    "    pulse0: npt.NDArray[np.float64] = pulse(timespan, amp0, centre0, width0)\n",
    "    plot(\n",
    "        ax=fig.add_subplot(fig_rows, fig_cols, 1),\n",
    "        timespan=timespan,\n",
    "        darr_x=pulse0,\n",
    "        title=time_label(time) + \"\\n\" + amp_label(amp0),\n",
    "    )\n",
    "\n",
    "    plt.show()"
   ]
  },
  {
   "cell_type": "markdown",
   "metadata": {},
   "source": [
    "### Task 5.3"
   ]
  },
  {
   "cell_type": "code",
   "execution_count": null,
   "metadata": {},
   "outputs": [],
   "source": [
    "fig: plt.Figure = plt.figure()\n",
    "fig_cols: int = 1\n",
    "fig_rows: int = 1\n",
    "\n",
    "darr_x0: npt.NDArray[np.float64] = np.zeros_like(timespan, dtype=np.float64)\n",
    "\n",
    "try:\n",
    "    index: int = 1\n",
    "    while True:\n",
    "        darr_x0 += pulse(timespan, amp0, width0 * index, width0)\n",
    "        index += 2\n",
    "except ValueError:\n",
    "    print(index, \"got out of bounds\")\n",
    "\n",
    "plot(\n",
    "    ax=fig.add_subplot(fig_rows, fig_cols, 1),\n",
    "    timespan=timespan,\n",
    "    darr_x=darr_x0,\n",
    "    title=\"Square wave\",\n",
    ")"
   ]
  },
  {
   "cell_type": "markdown",
   "metadata": {},
   "source": [
    "# Task 6"
   ]
  },
  {
   "cell_type": "code",
   "execution_count": null,
   "metadata": {},
   "outputs": [],
   "source": [
    "tmp_file = TemporaryFile()\n",
    "np.savez_compressed(tmp_file, x=timespan, y=darr_x0)\n",
    "\n",
    "tmp_file.seek(0)\n",
    "npz_file = np.load(tmp_file)\n",
    "for key, value in npz_file.items():\n",
    "    print(key, value)"
   ]
  },
  {
   "cell_type": "markdown",
   "metadata": {},
   "source": [
    "# Task 7"
   ]
  },
  {
   "cell_type": "code",
   "execution_count": null,
   "metadata": {},
   "outputs": [],
   "source": [
    "def plot_sinusoid(\n",
    "    timespan: npt.NDArray[np.float64],\n",
    "    freq: Hz,\n",
    "    amp: Meter,\n",
    "    time: Second | None = None,\n",
    ") -> np.float64 | None:\n",
    "    sinusoid0: npt.NDArray[np.float64] = sinusoid(timespan, freq, amp)\n",
    "\n",
    "    fig: plt.Figure = plt.figure()\n",
    "    fig_cols: int = 1\n",
    "    fig_rows: int = 1\n",
    "\n",
    "    ax0: plt.Axes = fig.add_subplot(fig_rows, fig_cols, 1)\n",
    "    ax0.plot(timespan, sinusoid0)\n",
    "    ax0.set_xlabel(\"x\")\n",
    "    ax0.set_ylabel(\"y\")\n",
    "    ax0.set_title(\"Sinusoid\")\n",
    "    ax0.grid()\n",
    "\n",
    "    plt.show()\n",
    "\n",
    "    if time is not None:\n",
    "        index: int = len(sinusoid0) // (time * 2)\n",
    "        cut: np.float[np.float64] = sinusoid0[0:index]\n",
    "        return sum(cut) / len(cut)"
   ]
  },
  {
   "cell_type": "code",
   "execution_count": null,
   "metadata": {},
   "outputs": [],
   "source": [
    "amp0: Meter = Meter(1)\n",
    "freq0: Hz = Hz(1)\n",
    "samples: Hz = Hz(256)\n",
    "time: Second = Second(10)\n",
    "timespan: npt.NDArray[np.float64] = np.linspace(\n",
    "    start=0,\n",
    "    stop=time,\n",
    "    num=time * samples,\n",
    "    dtype=np.float64,\n",
    ")"
   ]
  },
  {
   "cell_type": "code",
   "execution_count": null,
   "metadata": {},
   "outputs": [],
   "source": [
    "avg: np.float64 = plot_sinusoid(timespan, freq0, amp0, time=time)\n",
    "print(f\"{avg=}\")\n"
   ]
  }
 ],
 "metadata": {
  "kernelspec": {
   "display_name": "Python 3.10.7 ('q3-signal_p01-lnkpUBA6-py3.10')",
   "language": "python",
   "name": "python3"
  },
  "language_info": {
   "codemirror_mode": {
    "name": "ipython",
    "version": 3
   },
   "file_extension": ".py",
   "mimetype": "text/x-python",
   "name": "python",
   "nbconvert_exporter": "python",
   "pygments_lexer": "ipython3",
   "version": "3.10.7"
  },
  "vscode": {
   "interpreter": {
    "hash": "6bbbb6f7123b54132956aef43ad999a37c27a8b74f2b43c6d2e411b6897eeaf2"
   }
  }
 },
 "nbformat": 4,
 "nbformat_minor": 4
}
