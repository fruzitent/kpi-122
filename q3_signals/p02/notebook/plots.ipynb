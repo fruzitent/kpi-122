version https://git-lfs.github.com/spec/v1
oid sha256:0ea4674cb6f1df6f0985cb09654ff5552a3b121acc79002ffd547acfd1ca8992
size 15767458
