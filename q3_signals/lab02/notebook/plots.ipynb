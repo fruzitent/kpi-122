version https://git-lfs.github.com/spec/v1
oid sha256:b5b44b1f07485460ecbb08a7b611767707c699baa0dfe73274ffd0a9074cf9e0
size 15519906
