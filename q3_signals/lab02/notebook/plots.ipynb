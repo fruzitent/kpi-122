version https://git-lfs.github.com/spec/v1
oid sha256:9cba3b1868745e2b07e54518e3d06e7f1aa74d1a0cfef3bb48499a213822201f
size 14650962
