version https://git-lfs.github.com/spec/v1
oid sha256:dafe02726f08b96556ee2dae84413f9dfc05af56b430bafe1903b85493aae1a2
size 670655
