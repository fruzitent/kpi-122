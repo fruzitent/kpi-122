version https://git-lfs.github.com/spec/v1
oid sha256:0fd17d67333874a8e7917455ad41c4f7e5fe0c158db234a9785dc1537cb2b3d8
size 9406115
