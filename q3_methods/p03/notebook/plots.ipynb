version https://git-lfs.github.com/spec/v1
oid sha256:ee962b0bf799c310bd1abc3e4e93a140853c4e0650b5f2786b045fc4b59b751d
size 45230
