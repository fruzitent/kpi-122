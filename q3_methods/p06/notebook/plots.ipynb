version https://git-lfs.github.com/spec/v1
oid sha256:9ea94519741f6fc653fa18f3f6f77ea8380be0d4b0e7cc84f3c793ceb7b8a631
size 81645
